{
 "cells": [
  {
   "cell_type": "markdown",
   "metadata": {},
   "source": [
    "# Difference in Officer Misconduct by Gender\n",
    "\n",
    "Courtney Cheung, John Driscoll"
   ]
  },
  {
   "cell_type": "markdown",
   "metadata": {},
   "source": [
    "## Summary of Findings\n",
    "\n",
    "### Introduction\n",
    "In this project, we investigated the question: Are allegations more severe in cases where the misconduct is against a woman than for a man? To do so, we looked at a dataset derived from New York City’s Civilian Complaint Review Board’s (CCRB’s) records containing information on 12,000 civilian complaints filed against New York City police officers. The data span from September 1985 to January 2020, and pertain to closed cases for every police officer still on the force as of late June 2020 who had at least one substantiated allegation against them. To answer the question, we focused on data including complainants' gender and allegations.\n",
    "\n",
    "\n",
    "### Cleaning and EDA\n",
    "We created a cleaned data frame indexed by the unique ID of the complaint, `complaint_id`. Missing values under ‘complainant_ethnicity’ and ‘complaintant_gender’ were represented by strings such as “Unknown”, “Refused”, and “Not described”, so we replaced those values with NaN values to make all missing values in the dataset represented by NaN.  We then used information from the columns `month_closed` and `year_closed` to create the datetime columns `time_received` and `time_closed`. \n",
    "\n",
    "Using univariate analysis on allegations, it looks like officers who have an allegation against them have been accused of multiple types of misconduct. Using bivariate analysis on proportions of misconduct categories and allegations, we found that abuse of authority is the most common category of misconduct, and physical force is the most common Allegation. Using univariate analysis on gender, in which we dropped duplicate complaints to avoid double counting, we found that about 20% of complainants are female, and 80% are male. Using Univariate Analysis on complaint resolution time, we found that the average complaint takes a little under a year to resolve. Using Bivariate analysis and aggregation on complaint time by gender, we found that it is likely that the time that complaints took to be resolved is roughly equal for females and males. Lastly, we investigated the distributions of allegations by gender to see if there are any major differences before answering our question. We found three similarities, but a difference in the proportion of complaints that the officer refused to provide their name. Furthermore, the highest differences in allegations for females and males are use of language and threat of arrest. Overall, our exploratory data analysis shows that females are treated less respectfully by officers than males.\n",
    "\n",
    "\n",
    "\n",
    "### Assessment of Missingness\n",
    "Out of the columns that have missing values, `contact_reason` is likely to be NMAR based on what we can infer about the data generation process. We conclude that collecting additional data on the time of day at which the incident occured, could lead to `contact_reason` being MAR, as it would become dependent on a column in the dataset.\n",
    "\n",
    "We also determined whether  values in `complainant_gender` are MAR using permutation tests with 500 trials and a significance level of 0.05 (95% confidence level). With a p-value of 0.0, we found that `complainant_gender` is dependent on `allegations`. After testing against all other columns, we found taht `complainant_gender` is MAR, dependent on all of the columns.\n",
    "\n",
    "\n",
    "### Permutation Test\n",
    "To answer our question, we performed a permutation test using TVD with a significance level of 0.05. We used the null hypothesis that the distribution of allegation types for complainant women is approximately equal to the distribution of allegation types for complainant men, and the alternative hypothesis that the distribution of allegation types for complainant women is not equal to the distribution of allegation types for complainant men. From this, we obtained a p-value of 0.0, indicating that we can reject the null hypothesis, and infer that officers perform misconduct differently against males and females."
   ]
  },
  {
   "cell_type": "markdown",
   "metadata": {},
   "source": [
    "## Code"
   ]
  },
  {
   "cell_type": "code",
   "execution_count": 1,
   "metadata": {
    "ExecuteTime": {
     "end_time": "2019-10-31T23:36:28.652554Z",
     "start_time": "2019-10-31T23:36:27.180520Z"
    }
   },
   "outputs": [],
   "source": [
    "import matplotlib.pyplot as plt\n",
    "import numpy as np\n",
    "import os\n",
    "import pandas as pd\n",
    "import seaborn as sns"
   ]
  },
  {
   "cell_type": "code",
   "execution_count": 2,
   "metadata": {},
   "outputs": [],
   "source": [
    "pd.set_option('max_columns', None)"
   ]
  },
  {
   "cell_type": "code",
   "execution_count": 3,
   "metadata": {},
   "outputs": [
    {
     "data": {
      "text/html": [
       "<div>\n",
       "<style scoped>\n",
       "    .dataframe tbody tr th:only-of-type {\n",
       "        vertical-align: middle;\n",
       "    }\n",
       "\n",
       "    .dataframe tbody tr th {\n",
       "        vertical-align: top;\n",
       "    }\n",
       "\n",
       "    .dataframe thead th {\n",
       "        text-align: right;\n",
       "    }\n",
       "</style>\n",
       "<table border=\"1\" class=\"dataframe\">\n",
       "  <thead>\n",
       "    <tr style=\"text-align: right;\">\n",
       "      <th></th>\n",
       "      <th>unique_mos_id</th>\n",
       "      <th>first_name</th>\n",
       "      <th>last_name</th>\n",
       "      <th>command_now</th>\n",
       "      <th>shield_no</th>\n",
       "      <th>complaint_id</th>\n",
       "      <th>month_received</th>\n",
       "      <th>year_received</th>\n",
       "      <th>month_closed</th>\n",
       "      <th>year_closed</th>\n",
       "      <th>command_at_incident</th>\n",
       "      <th>rank_abbrev_incident</th>\n",
       "      <th>rank_abbrev_now</th>\n",
       "      <th>rank_now</th>\n",
       "      <th>rank_incident</th>\n",
       "      <th>mos_ethnicity</th>\n",
       "      <th>mos_gender</th>\n",
       "      <th>mos_age_incident</th>\n",
       "      <th>complainant_ethnicity</th>\n",
       "      <th>complainant_gender</th>\n",
       "      <th>complainant_age_incident</th>\n",
       "      <th>fado_type</th>\n",
       "      <th>allegation</th>\n",
       "      <th>precinct</th>\n",
       "      <th>contact_reason</th>\n",
       "      <th>outcome_description</th>\n",
       "      <th>board_disposition</th>\n",
       "    </tr>\n",
       "  </thead>\n",
       "  <tbody>\n",
       "    <tr>\n",
       "      <th>0</th>\n",
       "      <td>10004</td>\n",
       "      <td>Jonathan</td>\n",
       "      <td>Ruiz</td>\n",
       "      <td>078 PCT</td>\n",
       "      <td>8409</td>\n",
       "      <td>42835</td>\n",
       "      <td>7</td>\n",
       "      <td>2019</td>\n",
       "      <td>5</td>\n",
       "      <td>2020</td>\n",
       "      <td>078 PCT</td>\n",
       "      <td>POM</td>\n",
       "      <td>POM</td>\n",
       "      <td>Police Officer</td>\n",
       "      <td>Police Officer</td>\n",
       "      <td>Hispanic</td>\n",
       "      <td>M</td>\n",
       "      <td>32</td>\n",
       "      <td>Black</td>\n",
       "      <td>Female</td>\n",
       "      <td>38.0</td>\n",
       "      <td>Abuse of Authority</td>\n",
       "      <td>Failure to provide RTKA card</td>\n",
       "      <td>78.0</td>\n",
       "      <td>Report-domestic dispute</td>\n",
       "      <td>No arrest made or summons issued</td>\n",
       "      <td>Substantiated (Command Lvl Instructions)</td>\n",
       "    </tr>\n",
       "    <tr>\n",
       "      <th>1</th>\n",
       "      <td>10007</td>\n",
       "      <td>John</td>\n",
       "      <td>Sears</td>\n",
       "      <td>078 PCT</td>\n",
       "      <td>5952</td>\n",
       "      <td>24601</td>\n",
       "      <td>11</td>\n",
       "      <td>2011</td>\n",
       "      <td>8</td>\n",
       "      <td>2012</td>\n",
       "      <td>PBBS</td>\n",
       "      <td>POM</td>\n",
       "      <td>POM</td>\n",
       "      <td>Police Officer</td>\n",
       "      <td>Police Officer</td>\n",
       "      <td>White</td>\n",
       "      <td>M</td>\n",
       "      <td>24</td>\n",
       "      <td>Black</td>\n",
       "      <td>Male</td>\n",
       "      <td>26.0</td>\n",
       "      <td>Discourtesy</td>\n",
       "      <td>Action</td>\n",
       "      <td>67.0</td>\n",
       "      <td>Moving violation</td>\n",
       "      <td>Moving violation summons issued</td>\n",
       "      <td>Substantiated (Charges)</td>\n",
       "    </tr>\n",
       "    <tr>\n",
       "      <th>2</th>\n",
       "      <td>10007</td>\n",
       "      <td>John</td>\n",
       "      <td>Sears</td>\n",
       "      <td>078 PCT</td>\n",
       "      <td>5952</td>\n",
       "      <td>24601</td>\n",
       "      <td>11</td>\n",
       "      <td>2011</td>\n",
       "      <td>8</td>\n",
       "      <td>2012</td>\n",
       "      <td>PBBS</td>\n",
       "      <td>POM</td>\n",
       "      <td>POM</td>\n",
       "      <td>Police Officer</td>\n",
       "      <td>Police Officer</td>\n",
       "      <td>White</td>\n",
       "      <td>M</td>\n",
       "      <td>24</td>\n",
       "      <td>Black</td>\n",
       "      <td>Male</td>\n",
       "      <td>26.0</td>\n",
       "      <td>Offensive Language</td>\n",
       "      <td>Race</td>\n",
       "      <td>67.0</td>\n",
       "      <td>Moving violation</td>\n",
       "      <td>Moving violation summons issued</td>\n",
       "      <td>Substantiated (Charges)</td>\n",
       "    </tr>\n",
       "  </tbody>\n",
       "</table>\n",
       "</div>"
      ],
      "text/plain": [
       "   unique_mos_id first_name last_name command_now  shield_no  complaint_id  \\\n",
       "0          10004   Jonathan      Ruiz     078 PCT       8409         42835   \n",
       "1          10007       John     Sears     078 PCT       5952         24601   \n",
       "2          10007       John     Sears     078 PCT       5952         24601   \n",
       "\n",
       "   month_received  year_received  month_closed  year_closed  \\\n",
       "0               7           2019             5         2020   \n",
       "1              11           2011             8         2012   \n",
       "2              11           2011             8         2012   \n",
       "\n",
       "  command_at_incident rank_abbrev_incident rank_abbrev_now        rank_now  \\\n",
       "0             078 PCT                  POM             POM  Police Officer   \n",
       "1                PBBS                  POM             POM  Police Officer   \n",
       "2                PBBS                  POM             POM  Police Officer   \n",
       "\n",
       "    rank_incident mos_ethnicity mos_gender  mos_age_incident  \\\n",
       "0  Police Officer      Hispanic          M                32   \n",
       "1  Police Officer         White          M                24   \n",
       "2  Police Officer         White          M                24   \n",
       "\n",
       "  complainant_ethnicity complainant_gender  complainant_age_incident  \\\n",
       "0                 Black             Female                      38.0   \n",
       "1                 Black               Male                      26.0   \n",
       "2                 Black               Male                      26.0   \n",
       "\n",
       "            fado_type                    allegation  precinct  \\\n",
       "0  Abuse of Authority  Failure to provide RTKA card      78.0   \n",
       "1         Discourtesy                        Action      67.0   \n",
       "2  Offensive Language                          Race      67.0   \n",
       "\n",
       "            contact_reason               outcome_description  \\\n",
       "0  Report-domestic dispute  No arrest made or summons issued   \n",
       "1         Moving violation   Moving violation summons issued   \n",
       "2         Moving violation   Moving violation summons issued   \n",
       "\n",
       "                          board_disposition  \n",
       "0  Substantiated (Command Lvl Instructions)  \n",
       "1                   Substantiated (Charges)  \n",
       "2                   Substantiated (Charges)  "
      ]
     },
     "execution_count": 3,
     "metadata": {},
     "output_type": "execute_result"
    }
   ],
   "source": [
    "unclean_complaints = pd.read_csv('allegations_202007271729.csv')\n",
    "unclean_complaints.head(3)"
   ]
  },
  {
   "cell_type": "markdown",
   "metadata": {},
   "source": [
    "### Cleaning and EDA"
   ]
  },
  {
   "cell_type": "markdown",
   "metadata": {},
   "source": [
    "**Cleaning**"
   ]
  },
  {
   "cell_type": "markdown",
   "metadata": {},
   "source": [
    "Missing Data"
   ]
  },
  {
   "cell_type": "code",
   "execution_count": 4,
   "metadata": {
    "ExecuteTime": {
     "end_time": "2019-10-31T23:36:28.657068Z",
     "start_time": "2019-10-31T23:36:28.654650Z"
    },
    "scrolled": true
   },
   "outputs": [
    {
     "data": {
      "text/html": [
       "<div>\n",
       "<style scoped>\n",
       "    .dataframe tbody tr th:only-of-type {\n",
       "        vertical-align: middle;\n",
       "    }\n",
       "\n",
       "    .dataframe tbody tr th {\n",
       "        vertical-align: top;\n",
       "    }\n",
       "\n",
       "    .dataframe thead th {\n",
       "        text-align: right;\n",
       "    }\n",
       "</style>\n",
       "<table border=\"1\" class=\"dataframe\">\n",
       "  <thead>\n",
       "    <tr style=\"text-align: right;\">\n",
       "      <th></th>\n",
       "      <th>unique_mos_id</th>\n",
       "      <th>first_name</th>\n",
       "      <th>last_name</th>\n",
       "      <th>command_now</th>\n",
       "      <th>shield_no</th>\n",
       "      <th>complaint_id</th>\n",
       "      <th>month_received</th>\n",
       "      <th>year_received</th>\n",
       "      <th>month_closed</th>\n",
       "      <th>year_closed</th>\n",
       "      <th>command_at_incident</th>\n",
       "      <th>rank_abbrev_incident</th>\n",
       "      <th>rank_abbrev_now</th>\n",
       "      <th>rank_now</th>\n",
       "      <th>rank_incident</th>\n",
       "      <th>mos_ethnicity</th>\n",
       "      <th>mos_gender</th>\n",
       "      <th>mos_age_incident</th>\n",
       "      <th>complainant_ethnicity</th>\n",
       "      <th>complainant_gender</th>\n",
       "      <th>complainant_age_incident</th>\n",
       "      <th>fado_type</th>\n",
       "      <th>allegation</th>\n",
       "      <th>precinct</th>\n",
       "      <th>contact_reason</th>\n",
       "      <th>outcome_description</th>\n",
       "      <th>board_disposition</th>\n",
       "    </tr>\n",
       "  </thead>\n",
       "  <tbody>\n",
       "    <tr>\n",
       "      <th>2897</th>\n",
       "      <td>13676</td>\n",
       "      <td>Ted</td>\n",
       "      <td>Saintgerard</td>\n",
       "      <td>109 PCT</td>\n",
       "      <td>26747</td>\n",
       "      <td>40332</td>\n",
       "      <td>8</td>\n",
       "      <td>2018</td>\n",
       "      <td>5</td>\n",
       "      <td>2019</td>\n",
       "      <td>102 PCT</td>\n",
       "      <td>POM</td>\n",
       "      <td>POM</td>\n",
       "      <td>Police Officer</td>\n",
       "      <td>Police Officer</td>\n",
       "      <td>Black</td>\n",
       "      <td>M</td>\n",
       "      <td>39</td>\n",
       "      <td>Unknown</td>\n",
       "      <td>Not described</td>\n",
       "      <td>NaN</td>\n",
       "      <td>Discourtesy</td>\n",
       "      <td>Word</td>\n",
       "      <td>106.0</td>\n",
       "      <td>Report of other crime</td>\n",
       "      <td>Arrest - other violation/crime</td>\n",
       "      <td>Exonerated</td>\n",
       "    </tr>\n",
       "    <tr>\n",
       "      <th>2916</th>\n",
       "      <td>13738</td>\n",
       "      <td>Duane</td>\n",
       "      <td>Atkinson</td>\n",
       "      <td>110 DET</td>\n",
       "      <td>6483</td>\n",
       "      <td>12627</td>\n",
       "      <td>12</td>\n",
       "      <td>2006</td>\n",
       "      <td>1</td>\n",
       "      <td>2008</td>\n",
       "      <td>101 PCT</td>\n",
       "      <td>POM</td>\n",
       "      <td>DT3</td>\n",
       "      <td>Detective</td>\n",
       "      <td>Police Officer</td>\n",
       "      <td>Black</td>\n",
       "      <td>M</td>\n",
       "      <td>28</td>\n",
       "      <td>NaN</td>\n",
       "      <td>NaN</td>\n",
       "      <td>NaN</td>\n",
       "      <td>Abuse of Authority</td>\n",
       "      <td>Gun Drawn</td>\n",
       "      <td>101.0</td>\n",
       "      <td>Moving violation</td>\n",
       "      <td>Arrest - other violation/crime</td>\n",
       "      <td>Unsubstantiated</td>\n",
       "    </tr>\n",
       "  </tbody>\n",
       "</table>\n",
       "</div>"
      ],
      "text/plain": [
       "      unique_mos_id first_name    last_name command_now  shield_no  \\\n",
       "2897          13676        Ted  Saintgerard     109 PCT      26747   \n",
       "2916          13738      Duane     Atkinson     110 DET       6483   \n",
       "\n",
       "      complaint_id  month_received  year_received  month_closed  year_closed  \\\n",
       "2897         40332               8           2018             5         2019   \n",
       "2916         12627              12           2006             1         2008   \n",
       "\n",
       "     command_at_incident rank_abbrev_incident rank_abbrev_now        rank_now  \\\n",
       "2897             102 PCT                  POM             POM  Police Officer   \n",
       "2916             101 PCT                  POM             DT3       Detective   \n",
       "\n",
       "       rank_incident mos_ethnicity mos_gender  mos_age_incident  \\\n",
       "2897  Police Officer         Black          M                39   \n",
       "2916  Police Officer         Black          M                28   \n",
       "\n",
       "     complainant_ethnicity complainant_gender  complainant_age_incident  \\\n",
       "2897               Unknown      Not described                       NaN   \n",
       "2916                   NaN                NaN                       NaN   \n",
       "\n",
       "               fado_type allegation  precinct         contact_reason  \\\n",
       "2897         Discourtesy       Word     106.0  Report of other crime   \n",
       "2916  Abuse of Authority  Gun Drawn     101.0       Moving violation   \n",
       "\n",
       "                 outcome_description board_disposition  \n",
       "2897  Arrest - other violation/crime        Exonerated  \n",
       "2916  Arrest - other violation/crime   Unsubstantiated  "
      ]
     },
     "execution_count": 4,
     "metadata": {},
     "output_type": "execute_result"
    }
   ],
   "source": [
    "#missingness in complaint_ethnicinity, complainant_gender, complainant_age\n",
    "#columns in dataframe have index 2 less than csv file\n",
    "unclean_complaints.iloc[[2897, 2916]]"
   ]
  },
  {
   "cell_type": "markdown",
   "metadata": {},
   "source": [
    "Missingness occurs as NaN, 'Refused', 'Unknown', and 'Not Described' in the dataset, all in different columns. The distributions of missingness from columns with missing values that aren't only NaN is as follows:"
   ]
  },
  {
   "cell_type": "code",
   "execution_count": 5,
   "metadata": {},
   "outputs": [
    {
     "data": {
      "text/plain": [
       "Black              17114\n",
       "Hispanic            6424\n",
       "NaN                 4464\n",
       "White               2783\n",
       "Unknown             1041\n",
       "Other Race           677\n",
       "Asian                532\n",
       "Refused              259\n",
       "American Indian       64\n",
       "Name: complainant_ethnicity, dtype: int64"
      ]
     },
     "metadata": {},
     "output_type": "display_data"
    },
    {
     "data": {
      "text/plain": [
       "Male                     24058\n",
       "Female                    5021\n",
       "NaN                       4195\n",
       "Not described               57\n",
       "Transwoman (MTF)            20\n",
       "Transman (FTM)               5\n",
       "Gender non-conforming        2\n",
       "Name: complainant_gender, dtype: int64"
      ]
     },
     "metadata": {},
     "output_type": "display_data"
    }
   ],
   "source": [
    "#seems like the most missing data is in complainant_ethnicity\n",
    "display(unclean_complaints['complainant_ethnicity'].value_counts(dropna=False))\n",
    "display(unclean_complaints['complainant_gender'].value_counts(dropna=False))"
   ]
  },
  {
   "cell_type": "markdown",
   "metadata": {},
   "source": [
    "We turn all of the non-NaN missing values into NaN below"
   ]
  },
  {
   "cell_type": "code",
   "execution_count": 6,
   "metadata": {},
   "outputs": [],
   "source": [
    "#cleaning missingness of ethnicity\n",
    "complaints = unclean_complaints.copy()\n",
    "\n",
    "complaints['complainant_ethnicity'] = complaints['complainant_ethnicity'].replace(['Unknown', 'Refused'], np.NaN)\n",
    "#display(complaints['complainant_ethnicity'].value_counts(dropna=False))\n",
    "#cleaning missingness of gender\n",
    "complaints['complainant_gender'] = complaints['complainant_gender'].replace('Not described', np.NaN)\n",
    "#display(complaints['complainant_gender'].value_counts(dropna=False))"
   ]
  },
  {
   "cell_type": "markdown",
   "metadata": {},
   "source": [
    "**Combining Date Columns to Create pd.Timestamp**"
   ]
  },
  {
   "cell_type": "markdown",
   "metadata": {},
   "source": [
    "We only have columns for month and year received and closed, so we have to use a filler value of 1 to create a pandas Timestamp in order to keep track of the dates of the allegations."
   ]
  },
  {
   "cell_type": "code",
   "execution_count": 7,
   "metadata": {},
   "outputs": [
    {
     "data": {
      "text/html": [
       "<div>\n",
       "<style scoped>\n",
       "    .dataframe tbody tr th:only-of-type {\n",
       "        vertical-align: middle;\n",
       "    }\n",
       "\n",
       "    .dataframe tbody tr th {\n",
       "        vertical-align: top;\n",
       "    }\n",
       "\n",
       "    .dataframe thead th {\n",
       "        text-align: right;\n",
       "    }\n",
       "</style>\n",
       "<table border=\"1\" class=\"dataframe\">\n",
       "  <thead>\n",
       "    <tr style=\"text-align: right;\">\n",
       "      <th></th>\n",
       "      <th>unique_mos_id</th>\n",
       "      <th>first_name</th>\n",
       "      <th>last_name</th>\n",
       "      <th>command_now</th>\n",
       "      <th>shield_no</th>\n",
       "      <th>complaint_id</th>\n",
       "      <th>month_received</th>\n",
       "      <th>year_received</th>\n",
       "      <th>month_closed</th>\n",
       "      <th>year_closed</th>\n",
       "      <th>command_at_incident</th>\n",
       "      <th>rank_abbrev_incident</th>\n",
       "      <th>rank_abbrev_now</th>\n",
       "      <th>rank_now</th>\n",
       "      <th>rank_incident</th>\n",
       "      <th>mos_ethnicity</th>\n",
       "      <th>mos_gender</th>\n",
       "      <th>mos_age_incident</th>\n",
       "      <th>complainant_ethnicity</th>\n",
       "      <th>complainant_gender</th>\n",
       "      <th>complainant_age_incident</th>\n",
       "      <th>fado_type</th>\n",
       "      <th>allegation</th>\n",
       "      <th>precinct</th>\n",
       "      <th>contact_reason</th>\n",
       "      <th>outcome_description</th>\n",
       "      <th>board_disposition</th>\n",
       "    </tr>\n",
       "  </thead>\n",
       "  <tbody>\n",
       "    <tr>\n",
       "      <th>0</th>\n",
       "      <td>10004</td>\n",
       "      <td>Jonathan</td>\n",
       "      <td>Ruiz</td>\n",
       "      <td>078 PCT</td>\n",
       "      <td>8409</td>\n",
       "      <td>42835</td>\n",
       "      <td>7</td>\n",
       "      <td>2019</td>\n",
       "      <td>5</td>\n",
       "      <td>2020</td>\n",
       "      <td>078 PCT</td>\n",
       "      <td>POM</td>\n",
       "      <td>POM</td>\n",
       "      <td>Police Officer</td>\n",
       "      <td>Police Officer</td>\n",
       "      <td>Hispanic</td>\n",
       "      <td>M</td>\n",
       "      <td>32</td>\n",
       "      <td>Black</td>\n",
       "      <td>Female</td>\n",
       "      <td>38.0</td>\n",
       "      <td>Abuse of Authority</td>\n",
       "      <td>Failure to provide RTKA card</td>\n",
       "      <td>78.0</td>\n",
       "      <td>Report-domestic dispute</td>\n",
       "      <td>No arrest made or summons issued</td>\n",
       "      <td>Substantiated (Command Lvl Instructions)</td>\n",
       "    </tr>\n",
       "    <tr>\n",
       "      <th>1</th>\n",
       "      <td>10007</td>\n",
       "      <td>John</td>\n",
       "      <td>Sears</td>\n",
       "      <td>078 PCT</td>\n",
       "      <td>5952</td>\n",
       "      <td>24601</td>\n",
       "      <td>11</td>\n",
       "      <td>2011</td>\n",
       "      <td>8</td>\n",
       "      <td>2012</td>\n",
       "      <td>PBBS</td>\n",
       "      <td>POM</td>\n",
       "      <td>POM</td>\n",
       "      <td>Police Officer</td>\n",
       "      <td>Police Officer</td>\n",
       "      <td>White</td>\n",
       "      <td>M</td>\n",
       "      <td>24</td>\n",
       "      <td>Black</td>\n",
       "      <td>Male</td>\n",
       "      <td>26.0</td>\n",
       "      <td>Discourtesy</td>\n",
       "      <td>Action</td>\n",
       "      <td>67.0</td>\n",
       "      <td>Moving violation</td>\n",
       "      <td>Moving violation summons issued</td>\n",
       "      <td>Substantiated (Charges)</td>\n",
       "    </tr>\n",
       "    <tr>\n",
       "      <th>2</th>\n",
       "      <td>10007</td>\n",
       "      <td>John</td>\n",
       "      <td>Sears</td>\n",
       "      <td>078 PCT</td>\n",
       "      <td>5952</td>\n",
       "      <td>24601</td>\n",
       "      <td>11</td>\n",
       "      <td>2011</td>\n",
       "      <td>8</td>\n",
       "      <td>2012</td>\n",
       "      <td>PBBS</td>\n",
       "      <td>POM</td>\n",
       "      <td>POM</td>\n",
       "      <td>Police Officer</td>\n",
       "      <td>Police Officer</td>\n",
       "      <td>White</td>\n",
       "      <td>M</td>\n",
       "      <td>24</td>\n",
       "      <td>Black</td>\n",
       "      <td>Male</td>\n",
       "      <td>26.0</td>\n",
       "      <td>Offensive Language</td>\n",
       "      <td>Race</td>\n",
       "      <td>67.0</td>\n",
       "      <td>Moving violation</td>\n",
       "      <td>Moving violation summons issued</td>\n",
       "      <td>Substantiated (Charges)</td>\n",
       "    </tr>\n",
       "  </tbody>\n",
       "</table>\n",
       "</div>"
      ],
      "text/plain": [
       "   unique_mos_id first_name last_name command_now  shield_no  complaint_id  \\\n",
       "0          10004   Jonathan      Ruiz     078 PCT       8409         42835   \n",
       "1          10007       John     Sears     078 PCT       5952         24601   \n",
       "2          10007       John     Sears     078 PCT       5952         24601   \n",
       "\n",
       "   month_received  year_received  month_closed  year_closed  \\\n",
       "0               7           2019             5         2020   \n",
       "1              11           2011             8         2012   \n",
       "2              11           2011             8         2012   \n",
       "\n",
       "  command_at_incident rank_abbrev_incident rank_abbrev_now        rank_now  \\\n",
       "0             078 PCT                  POM             POM  Police Officer   \n",
       "1                PBBS                  POM             POM  Police Officer   \n",
       "2                PBBS                  POM             POM  Police Officer   \n",
       "\n",
       "    rank_incident mos_ethnicity mos_gender  mos_age_incident  \\\n",
       "0  Police Officer      Hispanic          M                32   \n",
       "1  Police Officer         White          M                24   \n",
       "2  Police Officer         White          M                24   \n",
       "\n",
       "  complainant_ethnicity complainant_gender  complainant_age_incident  \\\n",
       "0                 Black             Female                      38.0   \n",
       "1                 Black               Male                      26.0   \n",
       "2                 Black               Male                      26.0   \n",
       "\n",
       "            fado_type                    allegation  precinct  \\\n",
       "0  Abuse of Authority  Failure to provide RTKA card      78.0   \n",
       "1         Discourtesy                        Action      67.0   \n",
       "2  Offensive Language                          Race      67.0   \n",
       "\n",
       "            contact_reason               outcome_description  \\\n",
       "0  Report-domestic dispute  No arrest made or summons issued   \n",
       "1         Moving violation   Moving violation summons issued   \n",
       "2         Moving violation   Moving violation summons issued   \n",
       "\n",
       "                          board_disposition  \n",
       "0  Substantiated (Command Lvl Instructions)  \n",
       "1                   Substantiated (Charges)  \n",
       "2                   Substantiated (Charges)  "
      ]
     },
     "execution_count": 7,
     "metadata": {},
     "output_type": "execute_result"
    }
   ],
   "source": [
    "complaints.head(3)"
   ]
  },
  {
   "cell_type": "code",
   "execution_count": 8,
   "metadata": {
    "scrolled": true
   },
   "outputs": [],
   "source": [
    "complaints['time_received'] = complaints.apply(axis=1, func=lambda x: pd.Timestamp(year=x['year_received'], month=x['month_received'], day=1))\n",
    "complaints.drop(columns=['month_received', 'year_received'], inplace=True)\n",
    "complaints['time_closed'] = complaints.apply(axis=1, func=lambda x: pd.Timestamp(year=x['year_closed'], month=x['month_closed'], day=1))\n",
    "complaints.drop(columns=['month_closed', 'year_closed'], inplace=True)"
   ]
  },
  {
   "cell_type": "markdown",
   "metadata": {},
   "source": [
    "**Exploratory Data Analysis**"
   ]
  },
  {
   "cell_type": "markdown",
   "metadata": {},
   "source": [
    "To start thinking about answering this question:\n",
    "\n",
    "\"Are allegations more severe in cases where the misconduct is against a women than a man?\"\n",
    "    \n",
    "we will not be dropping duplicate complaint id columns because each row for a single complaint contains a different allogation that we are going to look at. However, for looking at individual complaintants, we do have to drop duplicate columns so that we don't count individuals more than once."
   ]
  },
  {
   "cell_type": "markdown",
   "metadata": {},
   "source": [
    "Aggregate: Duplicate Allegations"
   ]
  },
  {
   "cell_type": "code",
   "execution_count": 9,
   "metadata": {},
   "outputs": [
    {
     "data": {
      "text/plain": [
       "'There are 33358 total allegations against officers.'"
      ]
     },
     "metadata": {},
     "output_type": "display_data"
    },
    {
     "data": {
      "text/plain": [
       "'However, there are only 12056 total complaints filed.'"
      ]
     },
     "metadata": {},
     "output_type": "display_data"
    },
    {
     "data": {
      "text/plain": [
       "'This means that there is a large amount of complaints with multiple allegations'"
      ]
     },
     "metadata": {},
     "output_type": "display_data"
    },
    {
     "data": {
      "text/plain": [
       "'This is what a few rows with multiple allegations look like:'"
      ]
     },
     "metadata": {},
     "output_type": "display_data"
    },
    {
     "data": {
      "text/html": [
       "<div>\n",
       "<style scoped>\n",
       "    .dataframe tbody tr th:only-of-type {\n",
       "        vertical-align: middle;\n",
       "    }\n",
       "\n",
       "    .dataframe tbody tr th {\n",
       "        vertical-align: top;\n",
       "    }\n",
       "\n",
       "    .dataframe thead th {\n",
       "        text-align: right;\n",
       "    }\n",
       "</style>\n",
       "<table border=\"1\" class=\"dataframe\">\n",
       "  <thead>\n",
       "    <tr style=\"text-align: right;\">\n",
       "      <th></th>\n",
       "      <th>first_name</th>\n",
       "      <th>last_name</th>\n",
       "      <th>complainant_ethnicity</th>\n",
       "      <th>complainant_gender</th>\n",
       "      <th>fado_type</th>\n",
       "      <th>allegation</th>\n",
       "      <th>outcome_description</th>\n",
       "      <th>board_disposition</th>\n",
       "    </tr>\n",
       "    <tr>\n",
       "      <th>complaint_id</th>\n",
       "      <th></th>\n",
       "      <th></th>\n",
       "      <th></th>\n",
       "      <th></th>\n",
       "      <th></th>\n",
       "      <th></th>\n",
       "      <th></th>\n",
       "      <th></th>\n",
       "    </tr>\n",
       "  </thead>\n",
       "  <tbody>\n",
       "    <tr>\n",
       "      <th>24601</th>\n",
       "      <td>John</td>\n",
       "      <td>Sears</td>\n",
       "      <td>Black</td>\n",
       "      <td>Male</td>\n",
       "      <td>Discourtesy</td>\n",
       "      <td>Action</td>\n",
       "      <td>Moving violation summons issued</td>\n",
       "      <td>Substantiated (Charges)</td>\n",
       "    </tr>\n",
       "    <tr>\n",
       "      <th>24601</th>\n",
       "      <td>John</td>\n",
       "      <td>Sears</td>\n",
       "      <td>Black</td>\n",
       "      <td>Male</td>\n",
       "      <td>Offensive Language</td>\n",
       "      <td>Race</td>\n",
       "      <td>Moving violation summons issued</td>\n",
       "      <td>Substantiated (Charges)</td>\n",
       "    </tr>\n",
       "    <tr>\n",
       "      <th>41927</th>\n",
       "      <td>Fazle</td>\n",
       "      <td>Tanim</td>\n",
       "      <td>Asian</td>\n",
       "      <td>Male</td>\n",
       "      <td>Abuse of Authority</td>\n",
       "      <td>Refusal to provide shield number</td>\n",
       "      <td>Moving violation summons issued</td>\n",
       "      <td>Unsubstantiated</td>\n",
       "    </tr>\n",
       "    <tr>\n",
       "      <th>41927</th>\n",
       "      <td>Fazle</td>\n",
       "      <td>Tanim</td>\n",
       "      <td>Asian</td>\n",
       "      <td>Male</td>\n",
       "      <td>Abuse of Authority</td>\n",
       "      <td>Retaliatory summons</td>\n",
       "      <td>Moving violation summons issued</td>\n",
       "      <td>Substantiated (Command Discipline A)</td>\n",
       "    </tr>\n",
       "  </tbody>\n",
       "</table>\n",
       "</div>"
      ],
      "text/plain": [
       "             first_name last_name complainant_ethnicity complainant_gender  \\\n",
       "complaint_id                                                                 \n",
       "24601              John     Sears                 Black               Male   \n",
       "24601              John     Sears                 Black               Male   \n",
       "41927             Fazle     Tanim                 Asian               Male   \n",
       "41927             Fazle     Tanim                 Asian               Male   \n",
       "\n",
       "                       fado_type                        allegation  \\\n",
       "complaint_id                                                         \n",
       "24601                Discourtesy                            Action   \n",
       "24601         Offensive Language                              Race   \n",
       "41927         Abuse of Authority  Refusal to provide shield number   \n",
       "41927         Abuse of Authority               Retaliatory summons   \n",
       "\n",
       "                          outcome_description  \\\n",
       "complaint_id                                    \n",
       "24601         Moving violation summons issued   \n",
       "24601         Moving violation summons issued   \n",
       "41927         Moving violation summons issued   \n",
       "41927         Moving violation summons issued   \n",
       "\n",
       "                                 board_disposition  \n",
       "complaint_id                                        \n",
       "24601                      Substantiated (Charges)  \n",
       "24601                      Substantiated (Charges)  \n",
       "41927                              Unsubstantiated  \n",
       "41927         Substantiated (Command Discipline A)  "
      ]
     },
     "metadata": {},
     "output_type": "display_data"
    },
    {
     "data": {
      "text/plain": [
       "\"Duplicate complaint id's have all of the same information except for different complaint types and allegations\""
      ]
     },
     "metadata": {},
     "output_type": "display_data"
    }
   ],
   "source": [
    "display(\n",
    "    \"There are \" + str(complaints.shape[0]) + \" total allegations against officers.\",\n",
    "    \"However, there are only \" + str(len(complaints['complaint_id'].unique())) + \" total complaints filed.\",\n",
    "    \"This means that there is a large amount of complaints with multiple allegations\"\n",
    ")\n",
    "\n",
    "display(\"This is what a few rows with multiple allegations look like:\")\n",
    "display(complaints.set_index('complaint_id').loc[\n",
    "    complaints[complaints.duplicated(subset='complaint_id')]['complaint_id']\n",
    "][\n",
    "    ['first_name','last_name', 'complainant_ethnicity','complainant_gender','fado_type','allegation','outcome_description','board_disposition']\n",
    "].head(4))\n",
    "display(\"Duplicate complaint id's have all of the same information except for different complaint types and allegations\")"
   ]
  },
  {
   "cell_type": "markdown",
   "metadata": {},
   "source": [
    "Univariate Analysis: Allegations"
   ]
  },
  {
   "cell_type": "code",
   "execution_count": 10,
   "metadata": {},
   "outputs": [
    {
     "data": {
      "text/plain": [
       "'The number of cases with more than one allegation is: '"
      ]
     },
     "metadata": {},
     "output_type": "display_data"
    },
    {
     "data": {
      "text/plain": [
       "120872"
      ]
     },
     "metadata": {},
     "output_type": "display_data"
    },
    {
     "data": {
      "text/plain": [
       "'The average number of allegations for a case is: '"
      ]
     },
     "metadata": {},
     "output_type": "display_data"
    },
    {
     "data": {
      "text/plain": [
       "3.9848911805264104"
      ]
     },
     "metadata": {},
     "output_type": "display_data"
    }
   ],
   "source": [
    "duplicate_complaints = complaints.set_index('complaint_id').loc[\n",
    "    complaints[complaints.duplicated(subset='complaint_id')]['complaint_id']\n",
    "]\n",
    "display('The number of cases with more than one allegation is: ', \n",
    "    duplicate_complaints.shape[0])\n",
    "display('The average number of allegations for a case is: ', \n",
    "    (duplicate_complaints.reset_index().groupby('complaint_id')['unique_mos_id'].count().sum()\n",
    "     + 12056)/complaints.shape[0])"
   ]
  },
  {
   "cell_type": "markdown",
   "metadata": {},
   "source": [
    "On average, it seems like officers who have an allogation against them have been accused of multiple types of misconduct. This is a lot of information to process, so we need to look at how the different types of misconduct are broken up."
   ]
  },
  {
   "cell_type": "markdown",
   "metadata": {},
   "source": [
    "Bivariate Analysis: Proportions of Misconduct Categories and Allegations"
   ]
  },
  {
   "cell_type": "code",
   "execution_count": 11,
   "metadata": {},
   "outputs": [
    {
     "data": {
      "text/plain": [
       "'There are 4 different categories of misconduct with the following proportions:'"
      ]
     },
     "metadata": {},
     "output_type": "display_data"
    },
    {
     "data": {
      "image/png": "[encoded data removed]",
      "text/plain": [
       "<Figure size 432x288 with 1 Axes>"
      ]
     },
     "metadata": {
      "needs_background": "light"
     },
     "output_type": "display_data"
    },
    {
     "data": {
      "text/plain": [
       "'There are 115 different possible allegations, the most common of which are displayed below:'"
      ]
     },
     "metadata": {},
     "output_type": "display_data"
    },
    {
     "data": {
      "image/png": "[encoded data removed]",
      "text/plain": [
       "<Figure size 432x288 with 1 Axes>"
      ]
     },
     "metadata": {
      "needs_background": "light"
     },
     "output_type": "display_data"
    }
   ],
   "source": [
    "#finds the proportions of misconducts\n",
    "display(\"There are 4 different categories of misconduct with the following proportions:\")\n",
    "category_props = complaints.groupby('fado_type')['complaint_id'].count() / complaints.shape[0]\n",
    "category_props.plot(\n",
    "    kind='barh', title='Proportion of Overall Misconduct by Category', xlabel='Category'\n",
    "    )\n",
    "plt.show()\n",
    "\n",
    "#finds the proportions of allegations\n",
    "allegation_props = complaints.groupby('allegation')['complaint_id'].count() / complaints.shape[0]\n",
    "display(\"There are \" + str(allegation_props.shape[0]) + \" different possible allegations, the most common of which are displayed below:\")\n",
    "allegation_props.sort_values(ascending=False).head(5).plot(\n",
    "    kind='barh', title='Top 5 Proportions of Overall Misconduct by Allegation', xlabel='Allegation'\n",
    "    )\n",
    "plt.show()\n",
    "#complaints.groupby(['fado_type', 'allegation'])[['complaint_id']].count().reset_index()"
   ]
  },
  {
   "cell_type": "markdown",
   "metadata": {},
   "source": [
    "Abuse of Authority is the most common category of misconduct, and Physical Force is the most common Allegation, making up ~15% of all allegations, which is a scarily large proportion."
   ]
  },
  {
   "cell_type": "markdown",
   "metadata": {},
   "source": [
    "Univariate Analysis: Gender"
   ]
  },
  {
   "cell_type": "markdown",
   "metadata": {},
   "source": [
    "Since our question being asked is in regards to gender, we need to know the distribution of the genders of the individuals filing complaints. For this question, we have to drop duplicate complaints so that we don't count individuals multiple times"
   ]
  },
  {
   "cell_type": "code",
   "execution_count": 12,
   "metadata": {},
   "outputs": [
    {
     "data": {
      "text/plain": [
       "Gender non-conforming       1\n",
       "Transman (FTM)              2\n",
       "Transwoman (MTF)            5\n",
       "Female                   2073\n",
       "Male                     8157\n",
       "Name: complainant_gender, dtype: int64"
      ]
     },
     "metadata": {},
     "output_type": "display_data"
    },
    {
     "data": {
      "text/plain": [
       "Gender non-conforming    0.000098\n",
       "Transman (FTM)           0.000195\n",
       "Transwoman (MTF)         0.000488\n",
       "Female                   0.202481\n",
       "Male                     0.796738\n",
       "Name: complainant_gender, dtype: float64"
      ]
     },
     "metadata": {},
     "output_type": "display_data"
    },
    {
     "data": {
      "text/plain": [
       "<AxesSubplot:title={'center':'Proportions of Gender'}, ylabel='Gender'>"
      ]
     },
     "execution_count": 12,
     "metadata": {},
     "output_type": "execute_result"
    },
    {
     "data": {
      "image/png": "[encoded data removed]",
      "text/plain": [
       "<Figure size 432x288 with 1 Axes>"
      ]
     },
     "metadata": {
      "needs_background": "light"
     },
     "output_type": "display_data"
    }
   ],
   "source": [
    "unique_complaints = complaints.drop_duplicates(subset='complaint_id')\n",
    "display(unique_complaints['complainant_gender'].value_counts().sort_values(ascending=True))\n",
    "gender_props = unique_complaints['complainant_gender'].value_counts(normalize=True)\n",
    "display(gender_props.sort_values(ascending=True))\n",
    "gender_props.plot(\n",
    "    kind='barh', title='Proportions of Gender', xlabel='Gender'\n",
    ")"
   ]
  },
  {
   "cell_type": "markdown",
   "metadata": {},
   "source": [
    "About 20% of the complainants are Female and 80% are Male. This distribution is uneven, but both populations have large enough sample sizes that we will be able to answer our question with accuracy."
   ]
  },
  {
   "cell_type": "markdown",
   "metadata": {},
   "source": [
    "Univariate Analysis: Complaint Resolution Time"
   ]
  },
  {
   "cell_type": "code",
   "execution_count": 13,
   "metadata": {},
   "outputs": [
    {
     "data": {
      "image/png": "[encoded data removed]",
      "text/plain": [
       "<Figure size 432x288 with 1 Axes>"
      ]
     },
     "metadata": {
      "needs_background": "light"
     },
     "output_type": "display_data"
    },
    {
     "data": {
      "image/png": "[encoded data removed]",
      "text/plain": [
       "<Figure size 432x288 with 1 Axes>"
      ]
     },
     "metadata": {
      "needs_background": "light"
     },
     "output_type": "display_data"
    },
    {
     "data": {
      "text/plain": [
       "'The average number of days that a Complaint took to resolve was 296.2687211463517'"
      ]
     },
     "metadata": {},
     "output_type": "display_data"
    }
   ],
   "source": [
    "time_complaint = (complaints['time_closed'] - complaints['time_received'])\n",
    "time_complaint.dt.days.plot(\n",
    "    kind='hist', density=True, title='Time of Complaint in Days', xlabel='Time in days'\n",
    ")\n",
    "plt.show()\n",
    "(time_complaint.dt.days // 365.25).plot(\n",
    "    kind='hist', density=True, title='Time of Complaint in Years', xlabel='Time in years'\n",
    ")\n",
    "plt.show()\n",
    "display(\"The average number of days that a Complaint took to resolve was \" + str(time_complaint.dt.days.mean()))"
   ]
  },
  {
   "cell_type": "markdown",
   "metadata": {},
   "source": [
    "Around 75% of complaints are resolved in under a year, while about 35% take between 1 and two years. The average complaint takes a little bit under a year to resolve which doesn't seem like a timely response for something as serious as officer misconduct."
   ]
  },
  {
   "cell_type": "markdown",
   "metadata": {},
   "source": [
    "Bivariate Analysis and Aggregation: Complaint Time by Gender"
   ]
  },
  {
   "cell_type": "code",
   "execution_count": 14,
   "metadata": {},
   "outputs": [
    {
     "name": "stderr",
     "output_type": "stream",
     "text": [
      "/var/folders/hw/nwdk4wnd1rl7g6j4v1p5q_t00000gn/T/ipykernel_70173/511900387.py:1: SettingWithCopyWarning: \n",
      "A value is trying to be set on a copy of a slice from a DataFrame.\n",
      "Try using .loc[row_indexer,col_indexer] = value instead\n",
      "\n",
      "See the caveats in the documentation: https://pandas.pydata.org/pandas-docs/stable/user_guide/indexing.html#returning-a-view-versus-a-copy\n",
      "  unique_complaints['time_complaint'] = time_complaint\n"
     ]
    },
    {
     "data": {
      "image/png": "[encoded data removed]",
      "text/plain": [
       "<Figure size 432x288 with 1 Axes>"
      ]
     },
     "metadata": {
      "needs_background": "light"
     },
     "output_type": "display_data"
    },
    {
     "data": {
      "image/png": "[encoded data removed]",
      "text/plain": [
       "<Figure size 432x288 with 1 Axes>"
      ]
     },
     "metadata": {
      "needs_background": "light"
     },
     "output_type": "display_data"
    }
   ],
   "source": [
    "unique_complaints['time_complaint'] = time_complaint\n",
    "time_complaint_genders = unique_complaints.groupby('complainant_gender')['time_complaint']\n",
    "time_complaint_genders.get_group('Male').dt.days.plot(\n",
    "    kind='hist', density=True, title='Time of Male Complaints in Days', xlabel='Time in days', bins=range(0, 2000, 200)\n",
    ")\n",
    "plt.show()\n",
    "time_complaint_genders.get_group('Female').dt.days.plot(\n",
    "    kind='hist', density=True, title='Time of Female Complaints in Days', xlabel='Time in days', bins=range(0, 2000, 200)\n",
    ")\n",
    "plt.show()"
   ]
  },
  {
   "cell_type": "markdown",
   "metadata": {},
   "source": [
    "These distributions look roughly the same"
   ]
  },
  {
   "cell_type": "code",
   "execution_count": 15,
   "metadata": {},
   "outputs": [
    {
     "data": {
      "text/plain": [
       "'The mean complaint resolution time for Males in days is:'"
      ]
     },
     "metadata": {},
     "output_type": "display_data"
    },
    {
     "data": {
      "text/plain": [
       "310.7209758489641"
      ]
     },
     "metadata": {},
     "output_type": "display_data"
    },
    {
     "data": {
      "text/plain": [
       "'The mean complaint resolution time for Females in days is:'"
      ]
     },
     "metadata": {},
     "output_type": "display_data"
    },
    {
     "data": {
      "text/plain": [
       "287.5740472744814"
      ]
     },
     "metadata": {},
     "output_type": "display_data"
    }
   ],
   "source": [
    "display(\"The mean complaint resolution time for Males in days is:\")\n",
    "display(time_complaint_genders.get_group('Male').dt.days.mean())\n",
    "display(\"The mean complaint resolution time for Females in days is:\")\n",
    "display(time_complaint_genders.get_group('Female').dt.days.mean())"
   ]
  },
  {
   "cell_type": "markdown",
   "metadata": {},
   "source": [
    "While male complaints seem to take slightly longer to be resolved, there are some male complaint outliers that went unresolved for a long period of time, so it is likely that the time that complaints took to be resolved is roughly equal for Females and Males."
   ]
  },
  {
   "cell_type": "markdown",
   "metadata": {},
   "source": [
    "Aggregation: Distribution of Allegations by Gender"
   ]
  },
  {
   "cell_type": "markdown",
   "metadata": {},
   "source": [
    "After looking at the distribution Allegations by themselves, we now need to look at their distributions by gender to see if there are any major differences before performing a permutation test to answer our question."
   ]
  },
  {
   "cell_type": "code",
   "execution_count": 16,
   "metadata": {},
   "outputs": [
    {
     "data": {
      "image/png": "[encoded data removed]",
      "text/plain": [
       "<Figure size 432x288 with 1 Axes>"
      ]
     },
     "metadata": {
      "needs_background": "light"
     },
     "output_type": "display_data"
    },
    {
     "data": {
      "image/png": "[encoded data removed]",
      "text/plain": [
       "<Figure size 432x288 with 1 Axes>"
      ]
     },
     "metadata": {
      "needs_background": "light"
     },
     "output_type": "display_data"
    }
   ],
   "source": [
    "male_allegations = complaints[complaints['complainant_gender'] == 'Male']\n",
    "male_props = male_allegations.groupby('allegation')['complaint_id'].count() / male_allegations.shape[0]\n",
    "male_props.sort_values(ascending=False).head(5).plot(\n",
    "    kind='barh', title='Top 5 Proportions of Overall Misconduct by Allegation for Males', xlabel='Allegation'\n",
    "    )\n",
    "plt.show()\n",
    "\n",
    "female_allegations = complaints[complaints['complainant_gender'] == 'Female']\n",
    "female_props = female_allegations.groupby('allegation')['complaint_id'].count() / female_allegations.shape[0]\n",
    "female_props.sort_values(ascending=False).head(5).plot(\n",
    "    kind='barh', title='Top 5 Proportions of Overall Misconduct by Allegation for Females', xlabel='Allegation'\n",
    "    )\n",
    "plt.show()"
   ]
  },
  {
   "cell_type": "markdown",
   "metadata": {},
   "source": [
    "Word, Physical force, and Search of person appeared in high proportions for both Males and Females. Something that stands out is that a high proportioned female complaint is that the officer refused to provide their name, but not for males.\n",
    "\n",
    "Let's now look at what types of allegations differ the greatest for Males and Females to see what factors may influence our permutation test the most."
   ]
  },
  {
   "cell_type": "code",
   "execution_count": 17,
   "metadata": {},
   "outputs": [
    {
     "data": {
      "image/png": "[encoded data removed]",
      "text/plain": [
       "<Figure size 432x288 with 1 Axes>"
      ]
     },
     "metadata": {
      "needs_background": "light"
     },
     "output_type": "display_data"
    },
    {
     "data": {
      "text/plain": [
       "allegation\n",
       "Word                                    -0.059367\n",
       "Threat of arrest                        -0.057536\n",
       "Stop                                     0.051530\n",
       "Frisk                                    0.049995\n",
       "Refusal to provide name/shield number   -0.039523\n",
       "Search (of person)                       0.038888\n",
       "Vehicle search                           0.021153\n",
       "Vehicle stop                             0.017739\n",
       "Gender                                  -0.014927\n",
       "Refusal to show search warrant          -0.013183\n",
       "Name: complaint_id, dtype: float64"
      ]
     },
     "execution_count": 17,
     "metadata": {},
     "output_type": "execute_result"
    }
   ],
   "source": [
    "difference_props = male_props - female_props\n",
    "top_10 = abs(male_props - female_props).sort_values(ascending=False).head(10)\n",
    "top_10.plot(\n",
    "    kind='barh', title='Top 10 Differences in Reported Misconduct btwn Males and Females', xlabel='Allegation'\n",
    ")\n",
    "plt.show()\n",
    "difference_props.loc[top_10.index]"
   ]
  },
  {
   "cell_type": "markdown",
   "metadata": {},
   "source": [
    "The highest differences in allegations for Females and Males are use of language and threat of arrest. Both of which Females reported 5% more than their Male counterparts. Coupled with the fact that Females also reported complaints based on treatement of their gender and officers refusing to provide them with information, it seems like Females are treated less respectfully by officers than their Male counterparts."
   ]
  },
  {
   "cell_type": "markdown",
   "metadata": {},
   "source": [
    "### Assessment of Missingness"
   ]
  },
  {
   "cell_type": "markdown",
   "metadata": {},
   "source": [
    "The more columns in a dataset, less likely it will be that a column will be NMAR. To assess which columns are NMAR, if any, we need to find the columns that have missing values. To determine this, we will consider the data generation process for each column in the list `contact_reason`."
   ]
  },
  {
   "cell_type": "code",
   "execution_count": 18,
   "metadata": {},
   "outputs": [
    {
     "name": "stdout",
     "output_type": "stream",
     "text": [
      "command_at_incident 1544\n",
      "complainant_ethnicity 5764\n",
      "complainant_gender 4252\n",
      "complainant_age_incident 4812\n",
      "allegation 1\n",
      "precinct 24\n",
      "contact_reason 199\n",
      "outcome_description 56\n"
     ]
    }
   ],
   "source": [
    "#printing the number of NaN's per column if there are any\n",
    "for col in complaints.columns:\n",
    "    num_missing = complaints[col].isna().sum()\n",
    "    if num_missing:\n",
    "        print(col, num_missing)"
   ]
  },
  {
   "cell_type": "markdown",
   "metadata": {},
   "source": [
    "Our dataset contains 29 columns, so it is unlikely that a given column is NMAR. As such, out of the columns that contain missing values, only `contact_reason` could be NMAR based on what we can infer about the data generation process. One way that contact_reason could be NMAR is if the complainants did not provide a response because they were unsure of why the officer made contact with them. This would mean that the missingness was dependent on the value itself. If we were to collect more data, for example, the time of day that the incident occurred, we might see a relationship between the chance of missingness and whether the incident occurred between 11pm and 2am, since people may not be fully able to process or make sense of the incident at that time due to tiredness. This addition to the dataset would make `contact_reason` MAR instead of NMAR, because the chance of its missingness would be dependent on values in another column. "
   ]
  },
  {
   "cell_type": "markdown",
   "metadata": {},
   "source": [
    "To perform the following missigness tests, we create a tvd helper function to calculate TVD."
   ]
  },
  {
   "cell_type": "code",
   "execution_count": 19,
   "metadata": {},
   "outputs": [],
   "source": [
    "def tvd_of_groups(df, idx, cols):\n",
    "    #pivot table of counts\n",
    "    cnts = df.pivot_table(index=idx, columns=cols, aggfunc='size')\n",
    "    #tvd calculation\n",
    "    distr = cnts / cnts.sum()\n",
    "    #display(distr)\n",
    "    #display(distr.diff(axis=1).iloc[:, -1])\n",
    "    return distr.diff(axis=1).iloc[:, -1].abs().sum() / 2"
   ]
  },
  {
   "cell_type": "markdown",
   "metadata": {},
   "source": [
    "To calculate observed TVD's we will need a dataframe with an added column of with boolean values indicating \n",
    "whether the complainant gender is missing."
   ]
  },
  {
   "cell_type": "code",
   "execution_count": 20,
   "metadata": {},
   "outputs": [],
   "source": [
    "missing = (complaints.assign(complainant_gender_missing=complaints['complainant_gender'].isna()))"
   ]
  },
  {
   "cell_type": "code",
   "execution_count": 21,
   "metadata": {},
   "outputs": [
    {
     "data": {
      "text/plain": [
       "<AxesSubplot:title={'center':'allegation by Missingness of Complaintant Gender'}, ylabel='allegation'>"
      ]
     },
     "metadata": {},
     "output_type": "display_data"
    },
    {
     "data": {
      "image/png": "[encoded data removed]",
      "text/plain": [
       "<Figure size 360x288 with 1 Axes>"
      ]
     },
     "metadata": {
      "needs_background": "light"
     },
     "output_type": "display_data"
    }
   ],
   "source": [
    "#calculating observed TVD\n",
    "obs_tvd = tvd_of_groups(missing, 'allegation', 'complainant_gender_missing')\n",
    "obs_tvd\n",
    "\n",
    "#visualize the observation\n",
    "cnts = missing.pivot_table(index='allegation', columns='complainant_gender_missing', aggfunc='size')\n",
    "distr = cnts / cnts.sum()\n",
    "display(distr.plot(kind='barh', figsize=(5, 4), title='allegation by Missingness of Complaintant Gender'))"
   ]
  },
  {
   "cell_type": "markdown",
   "metadata": {},
   "source": [
    "Then we execute 500 permutations of the allegation column and calculated each TVD."
   ]
  },
  {
   "cell_type": "code",
   "execution_count": 22,
   "metadata": {},
   "outputs": [],
   "source": [
    "#setup\n",
    "shuffled = complaints.copy()\n",
    "shuffled['complainant_gender_missing'] = shuffled['complainant_gender'].isna()\n",
    "\n",
    "n_repetitions = 500\n",
    "tvds = []\n",
    "for _ in range(n_repetitions):\n",
    "    \n",
    "    # Shuffling board dispositions and assigning back to the DataFrame\n",
    "    shuffled['allegation'] = np.random.permutation(shuffled['allegation'])\n",
    "    \n",
    "    # Computing and storing TVD\n",
    "    tvd = tvd_of_groups(shuffled, 'allegation', 'complainant_gender_missing')\n",
    "    tvds.append(tvd)\n"
   ]
  },
  {
   "cell_type": "markdown",
   "metadata": {},
   "source": [
    "Here we calculate the p-value, and visualize the observation relative to the null distribution.\n",
    "This indicates that we can reject the null hypothesis to say that `complainant_gender` is MAR dependent on `allegation`."
   ]
  },
  {
   "cell_type": "code",
   "execution_count": 23,
   "metadata": {},
   "outputs": [
    {
     "name": "stdout",
     "output_type": "stream",
     "text": [
      "0.0\n"
     ]
    },
    {
     "data": {
      "image/png": "[encoded data removed]",
      "text/plain": [
       "<Figure size 432x288 with 1 Axes>"
      ]
     },
     "metadata": {
      "needs_background": "light"
     },
     "output_type": "display_data"
    }
   ],
   "source": [
    "#calculating the p-value\n",
    "pval = np.mean(tvds >= obs_tvd)\n",
    "print(pval)\n",
    "\n",
    "#plotting the observation and the distribution\n",
    "pd.Series(tvds).plot(kind='hist', density=True, ec='w', bins=5, title=f'p-value: {pval}', label='Simulated TVDs')\n",
    "plt.axvline(x=obs_tvd, color='red', linewidth=4, label='Observed TVD')\n",
    "plt.legend();"
   ]
  },
  {
   "cell_type": "markdown",
   "metadata": {},
   "source": [
    "The following work assesses whether the missingness of `complainant_gender` is dependent on `board_disposition`. This is a done with a permutation test under the null hypothesis that the distribution of `board_disposition` when `complainant_gender` is missing is the same as the distribution of `board_disposition` when `complainant_gender` is not missing."
   ]
  },
  {
   "cell_type": "markdown",
   "metadata": {},
   "source": [
    "First we calculate the observed TVD and visualize the allegations categories by missignness of complaintant gender."
   ]
  },
  {
   "cell_type": "code",
   "execution_count": 24,
   "metadata": {},
   "outputs": [
    {
     "name": "stdout",
     "output_type": "stream",
     "text": [
      "0.13974102283805284\n"
     ]
    },
    {
     "data": {
      "text/plain": [
       "<AxesSubplot:title={'center':'Board Dispositions by Missingness of Complaintant Gender'}, ylabel='board_disposition'>"
      ]
     },
     "metadata": {},
     "output_type": "display_data"
    },
    {
     "data": {
      "image/png": "[encoded data removed]",
      "text/plain": [
       "<Figure size 360x288 with 1 Axes>"
      ]
     },
     "metadata": {
      "needs_background": "light"
     },
     "output_type": "display_data"
    }
   ],
   "source": [
    "#calculating tvd using helper function\n",
    "obs_tvd = tvd_of_groups(missing, 'board_disposition', 'complainant_gender_missing')\n",
    "print(obs_tvd)\n",
    "\n",
    "#visualize the observation\n",
    "cnts = missing.pivot_table(index='board_disposition', columns='complainant_gender_missing', aggfunc='size')\n",
    "distr = cnts / cnts.sum()\n",
    "display(distr.plot(kind='barh', figsize=(5, 4), title='Board Dispositions by Missingness of Complaintant Gender'))"
   ]
  },
  {
   "cell_type": "markdown",
   "metadata": {},
   "source": [
    "Then we execute 500 permutations of the board disposition column and calculated each TVD."
   ]
  },
  {
   "cell_type": "code",
   "execution_count": 25,
   "metadata": {},
   "outputs": [],
   "source": [
    "#setup\n",
    "shuffled = complaints.copy()\n",
    "shuffled['complainant_gender_missing'] = shuffled['complainant_gender'].isna()\n",
    "\n",
    "n_repetitions = 500\n",
    "tvds = []\n",
    "for _ in range(n_repetitions):\n",
    "    \n",
    "    # Shuffling board dispositions and assigning back to the DataFrame\n",
    "    shuffled['board_disposition'] = np.random.permutation(shuffled['board_disposition'])\n",
    "    \n",
    "    # Computing and storing TVD\n",
    "    tvd = tvd_of_groups(shuffled, 'board_disposition', 'complainant_gender_missing')\n",
    "    tvds.append(tvd)"
   ]
  },
  {
   "cell_type": "markdown",
   "metadata": {},
   "source": [
    "Here we calculate the p-value, and visualize the observation relative to the null distribution.\n",
    "This indicates that we can reject the null hypothesis to say that `complainant_gender` is MAR dependent on `board_disposition`."
   ]
  },
  {
   "cell_type": "code",
   "execution_count": 26,
   "metadata": {},
   "outputs": [
    {
     "data": {
      "image/png": "[encoded data removed]",
      "text/plain": [
       "<Figure size 432x288 with 1 Axes>"
      ]
     },
     "metadata": {
      "needs_background": "light"
     },
     "output_type": "display_data"
    }
   ],
   "source": [
    "#calculating p-vlaue\n",
    "pval = np.mean(tvds >= obs_tvd)\n",
    "\n",
    "#plotting the observation against the distribution\n",
    "pd.Series(tvds).plot(kind='hist', density=True, ec='w', bins=10, title=f'p-value: {pval}', label='Simulated TVDs')\n",
    "plt.axvline(x=obs_tvd, color='red', linewidth=4, label='Observed TVD')\n",
    "plt.legend();"
   ]
  },
  {
   "cell_type": "markdown",
   "metadata": {},
   "source": [
    "The following work assesses whether the missingness of `complainant_gender` is dependent on `board_disposition`. This is a done with a permutation test under the null hypothesis that the distribution of `board_disposition` when `complainant_gender` is missing is the same as the distribution of `board_disposition` when `complainant_gender` is not missing."
   ]
  },
  {
   "cell_type": "markdown",
   "metadata": {},
   "source": [
    "First we calculate the observed TVD and visualize the allegations categories by missignness of complaintant gender."
   ]
  },
  {
   "cell_type": "code",
   "execution_count": 27,
   "metadata": {},
   "outputs": [
    {
     "name": "stdout",
     "output_type": "stream",
     "text": [
      "0.21351835012633294\n"
     ]
    },
    {
     "data": {
      "text/plain": [
       "<AxesSubplot:title={'center':'First Name by Missingness of Complaintant Gender'}, ylabel='first_name'>"
      ]
     },
     "metadata": {},
     "output_type": "display_data"
    },
    {
     "data": {
      "image/png": "[encoded data removed]",
      "text/plain": [
       "<Figure size 360x288 with 1 Axes>"
      ]
     },
     "metadata": {
      "needs_background": "light"
     },
     "output_type": "display_data"
    }
   ],
   "source": [
    "#calculating tvd using helper function\n",
    "obs_tvd = tvd_of_groups(missing, 'first_name', 'complainant_gender_missing')\n",
    "print(obs_tvd)\n",
    "\n",
    "#visualize the observation\n",
    "cnts = missing.pivot_table(index='first_name', columns='complainant_gender_missing', aggfunc='size')\n",
    "distr = cnts / cnts.sum()\n",
    "display(distr.plot(kind='barh', figsize=(5, 4), title='First Name by Missingness of Complaintant Gender'))"
   ]
  },
  {
   "cell_type": "markdown",
   "metadata": {},
   "source": [
    "Then we execute 500 permutations of the rank now column and calculated each TVD."
   ]
  },
  {
   "cell_type": "code",
   "execution_count": 28,
   "metadata": {},
   "outputs": [],
   "source": [
    "#setup\n",
    "shuffled = complaints.copy()\n",
    "shuffled['complainant_gender_missing'] = shuffled['complainant_gender'].isna()\n",
    "\n",
    "n_repetitions = 10\n",
    "tvds = []\n",
    "for _ in range(n_repetitions):\n",
    "    \n",
    "    # Shuffling board dispositions and assigning back to the DataFrame\n",
    "    shuffled['year_received'] = np.random.permutation(shuffled['first_name'])\n",
    "    \n",
    "    # Computing and storing TVD\n",
    "    tvd = tvd_of_groups(shuffled, 'year_received', 'complainant_gender_missing')\n",
    "    tvds.append(tvd)"
   ]
  },
  {
   "cell_type": "markdown",
   "metadata": {},
   "source": [
    "Here we calculate the p-value, and visualize the observation relative to the null distribution.\n",
    "This indicates that we can reject the null hypothesis to say that `complainant_gender` is dependent on `first_name`."
   ]
  },
  {
   "cell_type": "code",
   "execution_count": 29,
   "metadata": {},
   "outputs": [
    {
     "name": "stdout",
     "output_type": "stream",
     "text": [
      "0.0\n"
     ]
    }
   ],
   "source": [
    "#calculating p-vlaue\n",
    "pval = np.mean(tvds >= obs_tvd)\n",
    "print(pval)\n",
    "#plotting the observation against the distribution\n",
    "# pd.Series(tvds).plot(kind='hist', density=True, ec='w', bins=10, title=f'p-value: {pval}', label='Simulated TVDs')\n",
    "# plt.axvline(x=obs_tvd, color='red', linewidth=4, label='Observed TVD')\n",
    "# plt.legend();"
   ]
  },
  {
   "cell_type": "markdown",
   "metadata": {},
   "source": [
    "Performing permutation tests on all of the columns result in p-values of 0. This indicates that complainant_gender is dependent on all of the columns."
   ]
  },
  {
   "cell_type": "markdown",
   "metadata": {},
   "source": [
    "### Permutation Test"
   ]
  },
  {
   "cell_type": "markdown",
   "metadata": {},
   "source": [
    "**Are allegations against officers approximately the same for women and men?**\n",
    "\n",
    "Null hypothesis: The distribution of allegation types for complaintant women is approxmately equal to the distribution of allegation types for complainant men.\n",
    "\n",
    "Alternative hypothesis: The distribution of allegation types for complaintant women is not equal to the distribuiton of allegation types for complainant men.\n",
    "\n",
    "We'll complete this permutation test for allegation distributions using the Total Variation Distance (TVD) statistic, because we are comparing two categorial distributions of allegations for women and men.\n",
    "\n",
    "Our significance level is 0.05, so that we can be 95% confident that the observed difference is not due to random chance. "
   ]
  },
  {
   "cell_type": "markdown",
   "metadata": {},
   "source": [
    "Function for calculating the TVD statistic from all complaints:"
   ]
  },
  {
   "cell_type": "code",
   "execution_count": 30,
   "metadata": {},
   "outputs": [],
   "source": [
    "def tvd(complaints):\n",
    "    #get the proportions of all allegations by Female complainants\n",
    "    female_allegations = complaints[complaints['complainant_gender'] == 'Female']\n",
    "    female_props = female_allegations.groupby('allegation')['complaint_id'].count() / female_allegations.shape[0]\n",
    "\n",
    "    #get the proportions of all allegations by Male complainants\n",
    "    male_allegations = complaints[complaints['complainant_gender'] == 'Male']\n",
    "    male_props = male_allegations.groupby('allegation')['complaint_id'].count() / male_allegations.shape[0]\n",
    "\n",
    "    return np.sum(np.abs(female_props - male_props))/2"
   ]
  },
  {
   "cell_type": "markdown",
   "metadata": {},
   "source": [
    "Observed Statistic:"
   ]
  },
  {
   "cell_type": "code",
   "execution_count": 31,
   "metadata": {},
   "outputs": [
    {
     "data": {
      "text/plain": [
       "'Our observed Total Variation Distance between the distributions of Male and Female allegations is:'"
      ]
     },
     "metadata": {},
     "output_type": "display_data"
    },
    {
     "data": {
      "text/plain": [
       "0.26237207502700977"
      ]
     },
     "execution_count": 31,
     "metadata": {},
     "output_type": "execute_result"
    }
   ],
   "source": [
    "display('Our observed Total Variation Distance between the distributions of Male and Female allegations is:')\n",
    "obs_tvd = tvd(complaints)\n",
    "obs_tvd"
   ]
  },
  {
   "cell_type": "markdown",
   "metadata": {},
   "source": [
    "Performing the Permutation Test:"
   ]
  },
  {
   "cell_type": "code",
   "execution_count": 32,
   "metadata": {},
   "outputs": [
    {
     "data": {
      "text/plain": [
       "\"The first 5 permuted TVD's are:\""
      ]
     },
     "metadata": {},
     "output_type": "display_data"
    },
    {
     "data": {
      "text/plain": [
       "[0.04708527451806909,\n",
       " 0.031812054016906524,\n",
       " 0.045074474719686335,\n",
       " 0.04759268698865215,\n",
       " 0.046131793064854605]"
      ]
     },
     "execution_count": 32,
     "metadata": {},
     "output_type": "execute_result"
    }
   ],
   "source": [
    "N = 500\n",
    "null_tvds = []\n",
    "for _ in range(N):\n",
    "    complaints_shuffled = complaints.copy()\n",
    "    complaints_shuffled['allegation'] = complaints_shuffled['allegation'].sample(frac=1, replace=False).reset_index(drop=True)\n",
    "    null_tvd = tvd(complaints_shuffled)\n",
    "    null_tvds.append(null_tvd)\n",
    "display('The first 5 permuted TVD\\'s are:')\n",
    "null_tvds[:5]"
   ]
  },
  {
   "cell_type": "markdown",
   "metadata": {},
   "source": [
    "Calculating the p-value:"
   ]
  },
  {
   "cell_type": "code",
   "execution_count": 33,
   "metadata": {},
   "outputs": [
    {
     "data": {
      "text/plain": [
       "'Our p-value is:'"
      ]
     },
     "metadata": {},
     "output_type": "display_data"
    },
    {
     "data": {
      "text/plain": [
       "0.0"
      ]
     },
     "execution_count": 33,
     "metadata": {},
     "output_type": "execute_result"
    }
   ],
   "source": [
    "display('Our p-value is:')\n",
    "pval = np.mean(obs_tvd <= np.array(null_tvds))\n",
    "pval"
   ]
  },
  {
   "cell_type": "markdown",
   "metadata": {},
   "source": [
    "Conclusion:\n",
    "\n",
    "Since our p-value is less than our significance level of 0.05, we have convincing evidence that the distribution of allogation types for complaintant women is not equal to the distribuiton of allegation types for complaintant men, and therefore **we reject the null hypothesis**.\n",
    "\n",
    "With this information, we can infer that the difference between reported allegations that we see in this dataset is not due to random chance, and that officers perform misconduct differently against Males and Females."
   ]
  },
  {
   "cell_type": "code",
   "execution_count": null,
   "metadata": {},
   "outputs": [],
   "source": []
  }
 ],
 "metadata": {
  "kernelspec": {
   "display_name": "Python 3 (ipykernel)",
   "language": "python",
   "name": "python3"
  },
  "language_info": {
   "codemirror_mode": {
    "name": "ipython",
    "version": 3
   },
   "file_extension": ".py",
   "mimetype": "text/x-python",
   "name": "python",
   "nbconvert_exporter": "python",
   "pygments_lexer": "ipython3",
   "version": "3.9.7"
  }
 },
 "nbformat": 4,
 "nbformat_minor": 2
}
